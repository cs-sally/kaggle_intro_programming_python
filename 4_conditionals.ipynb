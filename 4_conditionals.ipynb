{
  "nbformat": 4,
  "nbformat_minor": 0,
  "metadata": {
    "colab": {
      "provenance": [],
      "authorship_tag": "ABX9TyPoZoYzQvOTnn3UWllZRycg",
      "include_colab_link": true
    },
    "kernelspec": {
      "name": "python3",
      "display_name": "Python 3"
    },
    "language_info": {
      "name": "python"
    }
  },
  "cells": [
    {
      "cell_type": "markdown",
      "metadata": {
        "id": "view-in-github",
        "colab_type": "text"
      },
      "source": [
        "<a href=\"https://colab.research.google.com/github/cs-sally/kaggle_programming_python/blob/main/4_conditionals.ipynb\" target=\"_parent\"><img src=\"https://colab.research.google.com/assets/colab-badge.svg\" alt=\"Open In Colab\"/></a>"
      ]
    },
    {
      "cell_type": "markdown",
      "source": [
        "# Conditions and Conditional Statements\n",
        ": MODIFY how FUNCTIONS run, DEPEND on the INPUT. Conditional functions.\n",
        "\n",
        "## 1. Conditions\n",
        "\n",
        "*   conditions : any statements or expression of **True or False Boolean values.**\n",
        "*   COMPARISON: Most common way\n",
        "*   If condition: one of the condtion concept: block of code conditional\n",
        "*   **== sign: Equality comparison\"  that Two values are **EQUAL**\n",
        "*   **= sign: assignment**\n",
        "*   print(): display 'VALUE'"
      ],
      "metadata": {
        "id": "GUOjtoyNoZVl"
      }
    },
    {
      "cell_type": "code",
      "execution_count": null,
      "metadata": {
        "id": "8U7aWGsOoO5b",
        "colab": {
          "base_uri": "https://localhost:8080/"
        },
        "outputId": "1cf6edfe-cf95-4855-bb14-f6e0710ce4af"
      },
      "outputs": [
        {
          "output_type": "stream",
          "name": "stdout",
          "text": [
            "False\n",
            "False\n",
            "False\n",
            "True\n",
            "True\n"
          ]
        }
      ],
      "source": [
        "# conditions : statement of Boolean Values\n",
        "print(2 > 3) # False\n",
        "\n",
        "# conditions for comparison\n",
        "var_one = 1\n",
        "var_two = 2\n",
        "print(var_one == var_two) # False\n",
        "\n",
        "print(var_one < 1) # False\n",
        "print(var_two >= var_one) # True\n",
        "\n",
        "print(var_one == 1) # True\n",
        "# print(var_one = 1)  syntax error\n"
      ]
    },
    {
      "cell_type": "markdown",
      "source": [
        "## 2. Conditional statements\n",
        ": Conditional statements use 'Condition' to modify how your function runs.\n",
        "\n",
        "**1) if statements**\n",
        "*   message = \"Normal temperature\"\n",
        "*   if temp > 38 true, print (\"Fever\")\n",
        "*   if temp > 38 false, no message\n",
        "\n",
        "**2) if...else statement**\n",
        "*   else: When IF statement is FALSE\n",
        "*   mutually exclusive behaviors\n",
        "\n",
        "**3) if...elif...else statement**\n",
        "*   else if(elif): if MULTIPLE conditions might be TRUE\n",
        "*   mutually exclusive behaviors"
      ],
      "metadata": {
        "id": "4Web5q3wtYwx"
      }
    },
    {
      "cell_type": "code",
      "source": [
        "# if conditional statement\n",
        "def evaluate_temp(temp):\n",
        "    message = \"Normal temperature.\"\n",
        "    if temp > 38 :\n",
        "      message = \"Fever!\"\n",
        "    return message\n",
        "print(evaluate_temp(37)) # Normal temperature.\n",
        "print(evaluate_temp(39)) # Fever\n",
        "\n",
        "# if...else conditional statement\n",
        "def evaluate_temp_with_else(temp):\n",
        "    if temp > 38:\n",
        "        message = \"Fever!\"\n",
        "    else:\n",
        "        message = \"Normal temperature.\"\n",
        "    return message\n",
        "print(evaluate_temp_with_else(37))\n",
        "print(evaluate_temp_with_else(39))\n",
        "\n",
        "# if...elif...else statement\n",
        "def evaluate_temp_with_elif(temp):\n",
        "    if temp > 38:\n",
        "        message = \"Fever!\"\n",
        "    elif temp > 35:\n",
        "        message = \"Normal temperature.\"\n",
        "    else:\n",
        "        message = \"Low temperature.\"\n",
        "    return message\n",
        "\n",
        "print(evaluate_temp_with_elif(36))\n",
        "print(evaluate_temp_with_elif(34))\n"
      ],
      "metadata": {
        "colab": {
          "base_uri": "https://localhost:8080/"
        },
        "id": "gDMVpR1WuwVh",
        "outputId": "c3ef34fb-6a24-4243-a7a6-b08994e4cd51"
      },
      "execution_count": null,
      "outputs": [
        {
          "output_type": "stream",
          "name": "stdout",
          "text": [
            "Normal temperature.\n",
            "Fever!\n",
            "Normal temperature.\n",
            "Fever!\n",
            "Normal temperature.\n",
            "Low temperature.\n"
          ]
        }
      ]
    },
    {
      "cell_type": "markdown",
      "source": [
        "# Conditional Statement Usages\n",
        "\n",
        "**1) Example 1 - Calculations**\n",
        "*   Everybody earning < 12,000, 25% tax\n",
        "*   Everybody earining >= 12,000, 30% tax"
      ],
      "metadata": {
        "id": "_ptwx_t3vz8P"
      }
    },
    {
      "cell_type": "code",
      "source": [
        "def get_taxes(earnings):\n",
        "    if earnings <12000:\n",
        "        tax_owed = .25 * earnings\n",
        "    else:\n",
        "        tax_owed = .30 * earnings\n",
        "    return tax_owed\n",
        "\n",
        "ana_taxes = get_taxes(9000)\n",
        "bob_taxes = get_taxes(15000)\n",
        "\n",
        "print(ana_taxes)\n",
        "print(bob_taxes)\n",
        "\n",
        "def add_three_or_eight(number):\n",
        "    if number < 10 :\n",
        "        result = number + 3\n",
        "    else:\n",
        "        result = number + 8\n",
        "    return result\n",
        "\n",
        "print(add_three_or_eight(5))\n",
        "print(add_three_or_eight(15))\n",
        "print(add_three_or_eight(20))"
      ],
      "metadata": {
        "colab": {
          "base_uri": "https://localhost:8080/"
        },
        "id": "UwSYpk_z6N5H",
        "outputId": "c8afb42e-dc34-4fa6-c409-d5259b0dc2a9"
      },
      "execution_count": null,
      "outputs": [
        {
          "output_type": "stream",
          "name": "stdout",
          "text": [
            "2250.0\n",
            "4500.0\n",
            "8\n",
            "23\n",
            "28\n"
          ]
        }
      ]
    },
    {
      "cell_type": "markdown",
      "source": [
        "**2) Example 2 Multiple 'elif'**"
      ],
      "metadata": {
        "id": "P-5sQ9cn6VLB"
      }
    },
    {
      "cell_type": "code",
      "source": [
        "def get_dose(weight): # dosage is 1.25ml for anyone under 5.2kg\n",
        "    if weight < 5.2:\n",
        "        dose = 1.25\n",
        "    elif weight < 7.9:\n",
        "        dose = 2.5\n",
        "    elif weight < 10.4:\n",
        "        dose = 3.75\n",
        "    elif weight < 15.9:\n",
        "        dose = 5\n",
        "    elif weight < 21.2:\n",
        "        dose = 7.5\n",
        "    else: # dosage is 10ml for anyone 21.2kg or over\n",
        "        dose = 10\n",
        "    return dose\n",
        "\n",
        "print(get_dose(12))"
      ],
      "metadata": {
        "colab": {
          "base_uri": "https://localhost:8080/"
        },
        "id": "05P2H_2U8K-K",
        "outputId": "36d798f8-938a-4bd0-a59f-e546be1595a1"
      },
      "execution_count": null,
      "outputs": [
        {
          "output_type": "stream",
          "name": "stdout",
          "text": [
            "5\n"
          ]
        }
      ]
    }
  ]
}