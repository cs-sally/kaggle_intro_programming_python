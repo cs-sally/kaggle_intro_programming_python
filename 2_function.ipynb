{
  "nbformat": 4,
  "nbformat_minor": 0,
  "metadata": {
    "colab": {
      "provenance": [],
      "toc_visible": true,
      "authorship_tag": "ABX9TyPZ/J7gPBBxitqnwjpUTBGF",
      "include_colab_link": true
    },
    "kernelspec": {
      "name": "python3",
      "display_name": "Python 3"
    },
    "language_info": {
      "name": "python"
    }
  },
  "cells": [
    {
      "cell_type": "markdown",
      "metadata": {
        "id": "view-in-github",
        "colab_type": "text"
      },
      "source": [
        "<a href=\"https://colab.research.google.com/github/cs-sally/kaggle_programming_python/blob/main/2_function.ipynb\" target=\"_parent\"><img src=\"https://colab.research.google.com/assets/colab-badge.svg\" alt=\"Open In Colab\"/></a>"
      ]
    },
    {
      "cell_type": "markdown",
      "source": [
        "Functions"
      ],
      "metadata": {
        "id": "nKxyFzXd7dqv"
      }
    },
    {
      "cell_type": "code",
      "source": [],
      "metadata": {
        "id": "0FnBkmf6CefY"
      },
      "execution_count": null,
      "outputs": []
    },
    {
      "cell_type": "code",
      "execution_count": null,
      "metadata": {
        "id": "Tsn9iULGzEu8"
      },
      "outputs": [],
      "source": [
        "# Define the function\n",
        "def add_three(input_var): # header\n",
        "    output_var = input_var + 3 # body\n",
        "    return output_var"
      ]
    },
    {
      "cell_type": "markdown",
      "source": [
        "**Function: reduce redundancy**\n",
        "\n",
        "Define the function name 'add_three'\n",
        "which taking 'input_var' parameter. This code define that the 'add_three' function will takes input variation in the parenthes.\n",
        "output_var named variation is stored the input_var argument plus 3. And then it will return the output_var variable."
      ],
      "metadata": {
        "id": "r-GPZWqw82pH"
      }
    },
    {
      "cell_type": "markdown",
      "source": [
        "*   Header and body: 2 components of function\n",
        "*   Header defines name of the function and its argument.\n",
        "*   argument = value: argument is value which specified term in function\n",
        "*   input_var is argument.\n",
        "*   Body: running function part\n",
        "*   4 spaces indentation\n",
        "*   Return statement: returns the value\n",
        "*   parameter = placeholder : general\n",
        "*   argument = value\n",
        "*   argument: function's terminology\n",
        "\n",
        "\n",
        "*   function parameter: variable name\n",
        "*   parameter: what's the one thing to change each time you want to calculate someone's pay?\n",
        "\n",
        "\n",
        "*   $15, 12%: \"Constants\" or \"Hardcoded Values\" or \"Literals\n",
        "\n",
        "\n",
        "\n",
        "\n",
        "\n",
        "\n",
        "\n",
        "\n",
        "\n"
      ],
      "metadata": {
        "id": "08MvLJPo8BnP"
      }
    },
    {
      "cell_type": "code",
      "source": [
        "# Run the function with 10 as input\n",
        "new_number = add_three(10)\n",
        "\n",
        "# Check the value is 13\n",
        "print(new_number)"
      ],
      "metadata": {
        "colab": {
          "base_uri": "https://localhost:8080/"
        },
        "id": "pnuz8u9zBWRI",
        "outputId": "99cc500d-34d9-4acc-b88f-bd25a426114a"
      },
      "execution_count": null,
      "outputs": [
        {
          "output_type": "stream",
          "name": "stdout",
          "text": [
            "13\n"
          ]
        }
      ]
    },
    {
      "cell_type": "markdown",
      "source": [
        "Naming Function\n",
        "\n",
        "*   lowercase letters\n",
        "*   uncerscore\n",
        "*   no space\n",
        "\n",
        "\n",
        "\n",
        "\n",
        "\n"
      ],
      "metadata": {
        "id": "lWKOj6LRDvT_"
      }
    },
    {
      "cell_type": "markdown",
      "source": [
        "A more complex exmple\n",
        "\n",
        "*   12% tax bracket\n",
        "*   hourly payment: $15/hour\n",
        "\n",
        "Functions\n",
        "\n",
        "*   num_hours\n",
        "*   pay_pretax\n",
        "*   pay_aftertax\n",
        "*   return pay_aftertax\n",
        "\n",
        "\n",
        "\n",
        "\n",
        "\n"
      ],
      "metadata": {
        "id": "3wrtOBzVKAzW"
      }
    },
    {
      "cell_type": "code",
      "source": [
        "def get_pay(num_hours):\n",
        "    # Pre-tax pay, based on receiving $15/hour\n",
        "    pay_pretax = num_hours * 15\n",
        "    pay_aftertax = pay_pretax * (1 - .12)\n",
        "    return pay_aftertax"
      ],
      "metadata": {
        "id": "4ve8BGjMB7ej"
      },
      "execution_count": null,
      "outputs": []
    },
    {
      "cell_type": "markdown",
      "source": [
        "full time payment for 40 hours"
      ],
      "metadata": {
        "id": "dSi-5qrTL3FU"
      }
    },
    {
      "cell_type": "code",
      "source": [
        "pay_fulltime = get_pay(40)\n",
        "print(pay_fulltime)"
      ],
      "metadata": {
        "colab": {
          "base_uri": "https://localhost:8080/"
        },
        "id": "S0ndPs9kLicU",
        "outputId": "939f4005-83fa-407a-80ec-87876af83256"
      },
      "execution_count": null,
      "outputs": [
        {
          "output_type": "stream",
          "name": "stdout",
          "text": [
            "528.0\n"
          ]
        }
      ]
    },
    {
      "cell_type": "markdown",
      "source": [
        "32 hours work"
      ],
      "metadata": {
        "id": "1dj4BBCyL7Pg"
      }
    },
    {
      "cell_type": "code",
      "source": [
        "pay_parttime = get_pay(32)\n",
        "print(pay_parttime)"
      ],
      "metadata": {
        "colab": {
          "base_uri": "https://localhost:8080/"
        },
        "id": "5kJCsb0BL_k5",
        "outputId": "32c19ee1-0f81-4e1b-f2a3-ca2108ae9c11"
      },
      "execution_count": null,
      "outputs": [
        {
          "output_type": "stream",
          "name": "stdout",
          "text": [
            "422.4\n"
          ]
        }
      ]
    },
    {
      "cell_type": "markdown",
      "source": [
        "A function takes\n",
        "**what it needs to know** (its inputs/parameters) to perform its task and then produces\n",
        "**what you want to know **(its output/return value)."
      ],
      "metadata": {
        "id": "yLqZOXiIRIh2"
      }
    },
    {
      "cell_type": "code",
      "source": [
        "def get_pay_with_more_inputs(num_hours, hourly_wage, tax_bracket):\n",
        "    # Pre-tax pay\n",
        "    pay_pretax = num_hours * hourly_wage\n",
        "    # After-tax pay\n",
        "    pay_aftertax = pay_pretax * (1 - tax_bracket)\n",
        "    return pay_aftertax"
      ],
      "metadata": {
        "id": "MQVCenxlwBB9"
      },
      "execution_count": null,
      "outputs": []
    },
    {
      "cell_type": "markdown",
      "source": [
        "in this case, each individual has different paycheck.\n",
        "\n",
        "Function with Multiple arguments\n",
        "*   flexiblity\n",
        "\n",
        "Function with no arguments\n",
        "\n",
        "\n"
      ],
      "metadata": {
        "id": "5X4QKGj7wFeU"
      }
    }
  ]
}