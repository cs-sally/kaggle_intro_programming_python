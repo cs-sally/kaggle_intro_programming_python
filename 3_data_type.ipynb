{
  "nbformat": 4,
  "nbformat_minor": 0,
  "metadata": {
    "colab": {
      "provenance": [],
      "authorship_tag": "ABX9TyMGCg0CWUQf3M4jqfpxdunQ",
      "include_colab_link": true
    },
    "kernelspec": {
      "name": "python3",
      "display_name": "Python 3"
    },
    "language_info": {
      "name": "python"
    }
  },
  "cells": [
    {
      "cell_type": "markdown",
      "metadata": {
        "id": "view-in-github",
        "colab_type": "text"
      },
      "source": [
        "<a href=\"https://colab.research.google.com/github/cs-sally/kaggle_programming_python/blob/main/3_data_type.ipynb\" target=\"_parent\"><img src=\"https://colab.research.google.com/assets/colab-badge.svg\" alt=\"Open In Colab\"/></a>"
      ]
    },
    {
      "cell_type": "markdown",
      "source": [
        "# **Data Types**\n",
        "*   Determination of action\n",
        "*   Data Type Matches: Avoid errors"
      ],
      "metadata": {
        "id": "YwppAm3Brpoq"
      }
    },
    {
      "cell_type": "markdown",
      "source": [
        "**1. Integers**\n",
        "*   numbers without fractional part\n",
        "*   positive, 0, negative\n",
        "*   **type()***: verifying data type:<class ''>"
      ],
      "metadata": {
        "id": "OjP8jXqLAk4z"
      }
    },
    {
      "cell_type": "code",
      "execution_count": null,
      "metadata": {
        "colab": {
          "base_uri": "https://localhost:8080/"
        },
        "id": "dJO0pdVDj_yn",
        "outputId": "2971d84f-aca9-471e-c577-8a6766c6ed91"
      },
      "outputs": [
        {
          "output_type": "stream",
          "name": "stdout",
          "text": [
            "14\n",
            "<class 'int'>\n"
          ]
        }
      ],
      "source": [
        "x = 14\n",
        "print(x)\n",
        "print(type(x))"
      ]
    },
    {
      "cell_type": "markdown",
      "source": [
        "**2. Floats**\n",
        "*   numbers with fractional parts\n",
        "*   numbers after decimal\n",
        "*   specifying a float with a fraction\n",
        "*   **round()*** function: rounding to decimal place\n",
        "*   decimal point: always float even 0"
      ],
      "metadata": {
        "id": "Ze9zcvO8AqYp"
      }
    },
    {
      "cell_type": "code",
      "source": [
        "nearly_pi = 3.141592653589793238462643383279502884197169399375105820974944\n",
        "print(nearly_pi)\n",
        "print(type(nearly_pi))\n",
        "\n",
        "# float with a franction\n",
        "almost_pi = 22 / 7\n",
        "print(almost_pi)\n",
        "print(type(almost_pi))\n",
        "\n",
        "# round() function: rounding to a decimal places\n",
        "rounded_pi = round(almost_pi, 5)\n",
        "print(rounded_pi)\n",
        "print(type(rounded_pi))\n",
        "\n",
        "# always a float with a decimal point\n",
        "y_float = 1\n",
        "print(y_float)\n",
        "print(type(y_float))\n"
      ],
      "metadata": {
        "colab": {
          "base_uri": "https://localhost:8080/"
        },
        "id": "-WCCBgcnBLtn",
        "outputId": "89c3efdc-6f61-4eea-de48-a886712581a5"
      },
      "execution_count": null,
      "outputs": [
        {
          "output_type": "stream",
          "name": "stdout",
          "text": [
            "3.141592653589793\n",
            "<class 'float'>\n",
            "3.142857142857143\n",
            "<class 'float'>\n",
            "3.14286\n",
            "<class 'float'>\n",
            "1\n",
            "<class 'int'>\n"
          ]
        }
      ]
    },
    {
      "cell_type": "markdown",
      "source": [
        "**3. Booleans**\n",
        "*   one of two values: True or False\n",
        "*   COMPARISON: always BOOLEANS\n",
        "*   not True, False : Always BOOLEANS\n",
        "*   '=': assignment, specific value\n",
        "*   '==': comparison, checking two values"
      ],
      "metadata": {
        "id": "7ikO9wS6Jtzz"
      }
    },
    {
      "cell_type": "code",
      "source": [
        "# Boolean value\n",
        "z_one = True\n",
        "print(z_one)\n",
        "print(type(z_one))\n",
        "\n",
        "z_two = False\n",
        "print(z_two)\n",
        "print(type(z_two))\n",
        "\n",
        "# Expression, comparison is boolean always\n",
        "z_three = (1 < 2) # 1 < 2 is True\n",
        "print(z_three)\n",
        "print(type(z_three))\n",
        "\n",
        "z_four = (5 < 3)\n",
        "print(z_four)\n",
        "print(type(z_four))\n",
        "\n",
        "# not Ture, not False\n",
        "z_five = not z_four\n",
        "print(z_five)\n",
        "print(type(z_five))"
      ],
      "metadata": {
        "colab": {
          "base_uri": "https://localhost:8080/"
        },
        "id": "Txli3DaPPo5k",
        "outputId": "82545415-8fff-406f-f0ab-7853aedd0aff"
      },
      "execution_count": null,
      "outputs": [
        {
          "output_type": "stream",
          "name": "stdout",
          "text": [
            "True\n",
            "<class 'bool'>\n",
            "False\n",
            "<class 'bool'>\n",
            "True\n",
            "<class 'bool'>\n",
            "False\n",
            "<class 'bool'>\n",
            "True\n",
            "<class 'bool'>\n"
          ]
        }
      ]
    },
    {
      "cell_type": "markdown",
      "source": [
        "**4. Strings**\n",
        ": a collection of characters: letters, puntuation, numerical digits, symbols with quotation marks, text\n",
        "\n",
        "*   **len()***: characters, space, comma, marks\n",
        "*   Empty string: length zero\n",
        "*   Quatation marks: string data type\n",
        "*   **float()*** : **type casting** (type conversion) to a float\n",
        "*   strings only addition: **concatenating**\n",
        "*   no subtraction, division, multiplication\n",
        "*   string multiplication with **integer, no float**"
      ],
      "metadata": {
        "id": "JcwuX3p5agtv"
      }
    },
    {
      "cell_type": "code",
      "source": [
        "# string data type\n",
        "w = \"Hello, Python!\"\n",
        "print(w)\n",
        "print(type(w))\n",
        "\n",
        "# len() function\n",
        "print(len(w))\n",
        "\n",
        "# empty string\n",
        "shortest_string = \"\"\n",
        "print(type(shortest_string))\n",
        "print(len(shortest_string))\n",
        "\n",
        "# quatation marks magic\n",
        "my_number = \"1.12321\"\n",
        "print(my_number)\n",
        "print(type(my_number))\n",
        "\n",
        "# type conversion to float\n",
        "also_my_number = float(my_number)\n",
        "print(also_my_number)\n",
        "print(type(also_my_number))\n",
        "\n",
        "# string addition\n",
        "new_string = \"abc\" + \"def\"\n",
        "print(new_string)\n",
        "print(type(new_string))\n",
        "\n",
        "# string multiplication by integer\n",
        "newest_string = \"abc\" * 3\n",
        "print(newest_string)\n",
        "print(type(newest_string))"
      ],
      "metadata": {
        "colab": {
          "base_uri": "https://localhost:8080/"
        },
        "id": "m5AI_G-ufu79",
        "outputId": "aaca4dae-928b-496b-b34d-a8c3947c69b5"
      },
      "execution_count": null,
      "outputs": [
        {
          "output_type": "stream",
          "name": "stdout",
          "text": [
            "Hello, Python!\n",
            "<class 'str'>\n",
            "14\n",
            "<class 'str'>\n",
            "0\n",
            "1.12321\n",
            "<class 'str'>\n",
            "1.12321\n",
            "<class 'float'>\n",
            "abcdef\n",
            "<class 'str'>\n",
            "abcabcabc\n",
            "<class 'str'>\n"
          ]
        }
      ]
    }
  ]
}