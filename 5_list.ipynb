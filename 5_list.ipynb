{
  "nbformat": 4,
  "nbformat_minor": 0,
  "metadata": {
    "colab": {
      "provenance": [],
      "authorship_tag": "ABX9TyMG/8yA1w9EIDYQbmKEwPfc",
      "include_colab_link": true
    },
    "kernelspec": {
      "name": "python3",
      "display_name": "Python 3"
    },
    "language_info": {
      "name": "python"
    }
  },
  "cells": [
    {
      "cell_type": "markdown",
      "metadata": {
        "id": "view-in-github",
        "colab_type": "text"
      },
      "source": [
        "<a href=\"https://colab.research.google.com/github/cs-sally/kaggle_programming_python/blob/main/5_list.ipynb\" target=\"_parent\"><img src=\"https://colab.research.google.com/assets/colab-badge.svg\" alt=\"Open In Colab\"/></a>"
      ]
    },
    {
      "cell_type": "markdown",
      "source": [
        "## Petal to the Metal Competition ##\n",
        "### Data structures###\n",
        ": lists, sets, dictionaries, tuples\n",
        "\n",
        "* flower species: Petal to the Metal Competition\n",
        "* type() - data type\n",
        "* string vs list : list is a collection\n",
        "* list: specified position, number of items, add or remove items\n",
        "* collection\n",
        "\n",
        "#### List ####\n",
        "##### 1. Length #####\n",
        "* len() : number of items (entries) - str: number of characters\n",
        "\n",
        "##### 2. Indexing: refering #####\n",
        "* Python indexing: zero-based indexing\n",
        "* zero-based indexing:\n",
        "* first entry as 0\n",
        "* second entry as 1\n",
        "* finsl entry as -1 of the length\n",
        "\n",
        "##### 3. Slicing #####\n",
        "* shortened NEW list\n",
        "* [:x] : first X entries\n",
        "* [-y:]: last y entrie\n",
        "\n",
        "##### 4. Removing items #####\n",
        "* .remove() : remove the item inside ()\n",
        "\n",
        "##### 5. Adding items #####\n",
        "* .append() : put the item inside ()\n",
        "\n",
        "##### 6. Lists data types #####\n",
        "* string, booleans, integers, floats\n",
        "\n",
        "##### 7. built in function #####\n",
        "* min()\n",
        "* max()\n",
        "* sum()"
      ],
      "metadata": {
        "id": "td-r9ep7r44P"
      }
    },
    {
      "cell_type": "code",
      "execution_count": null,
      "metadata": {
        "id": "_nL7nQIjrv0n",
        "colab": {
          "base_uri": "https://localhost:8080/"
        },
        "outputId": "32da2e5e-3382-4626-edd4-4a27450e2ac5"
      },
      "outputs": [
        {
          "output_type": "stream",
          "name": "stdout",
          "text": [
            "<class 'str'>\n",
            "pink primrose, hard-leaved pocket orchid, canterburry bells, sweet pea, english marigold, tiger lily, moon orchid, bird of paradise, monkshood, globe thistle\n",
            "-----\n",
            "<class 'list'>\n",
            "['pink primrose', 'hard-leaved pocket orchid', 'canterbury bells', 'sweet pea', 'english marigold', 'tiger lily', 'moon orchid', 'bird of paradise', 'monkshood', 'globe thistle']\n",
            "-----\n",
            "10\n",
            "-----\n",
            "First entry: pink primrose\n",
            "second entry: hard-leaved pocket orchid\n",
            "Last entry: globe thistle\n",
            "-----\n",
            "First three entries: ['pink primrose', 'hard-leaved pocket orchid', 'canterbury bells']\n",
            "Final two entries: ['monkshood', 'globe thistle']\n",
            "-----\n",
            "['pink primrose', 'hard-leaved pocket orchid', 'canterbury bells', 'sweet pea', 'english marigold', 'tiger lily', 'moon orchid', 'bird of paradise', 'monkshood']\n",
            "-----\n",
            "['pink primrose', 'hard-leaved pocket orchid', 'canterbury bells', 'sweet pea', 'english marigold', 'tiger lily', 'moon orchid', 'bird of paradise', 'monkshood', 'snapdragon']\n",
            "-----\n",
            "Length of the list: 7\n",
            "Entry at index 2: 172\n",
            "-----\n",
            "Minimum: 128\n",
            "Maximum: 191\n",
            "Total books sold in one week: 1107\n",
            "Average books sold in first five days: 153.8\n"
          ]
        }
      ],
      "source": [
        "# Petal to the Metal competition : list and square bracket with comma\n",
        "\n",
        "flowers = \"pink primrose, hard-leaved pocket orchid, canterburry bells, sweet pea, english marigold, tiger lily, moon orchid, bird of paradise, monkshood, globe thistle\"\n",
        "print(type(flowers))\n",
        "print(flowers)\n",
        "print(\"-\" * 5)\n",
        "\n",
        "# List : flower list\n",
        "flowers_list = [\"pink primrose\", \"hard-leaved pocket orchid\", \"canterbury bells\", \"sweet pea\", \"english marigold\", \"tiger lily\", \"moon orchid\", \"bird of paradise\", \"monkshood\", \"globe thistle\"]\n",
        "print(type(flowers_list))\n",
        "print(flowers_list)\n",
        "print(\"-\" * 5)\n",
        "\n",
        "# length\n",
        "print(len(flowers_list))\n",
        "print(\"-\" * 5)\n",
        "\n",
        "# indexing : referencing to specific positiona\n",
        "print(\"First entry:\", flowers_list[0])\n",
        "print(\"second entry:\", flowers_list[1])\n",
        "print(\"Last entry:\", flowers_list[9])\n",
        "print(\"-\" * 5)\n",
        "\n",
        "# slicing\n",
        "print(\"First three entries:\", flowers_list[:3])\n",
        "print(\"Final two entries:\", flowers_list[-2:])\n",
        "print(\"-\" * 5)\n",
        "\n",
        "# removing itmes\n",
        "flowers_list.remove(\"globe thistle\")\n",
        "print(flowers_list)\n",
        "print(\"-\" * 5)\n",
        "\n",
        "# adding items\n",
        "flowers_list.append(\"snapdragon\")\n",
        "print(flowers_list)\n",
        "print(\"-\" * 5)\n",
        "\n",
        "# list data type: integer\n",
        "hardcover_sales = [ 139, 128, 172, 139, 191 ,168, 170]\n",
        "print(\"Length of the list:\", len(hardcover_sales))\n",
        "print(\"Entry at index 2:\", hardcover_sales[2])\n",
        "print(\"-\" * 5)\n",
        "\n",
        "# built in function in list: min(), max(), sum(), and slicing\n",
        "print(\"Minimum:\", min(hardcover_sales))\n",
        "print(\"Maximum:\", max(hardcover_sales))\n",
        "print(\"Total books sold in one week:\", sum(hardcover_sales))\n",
        "print(\"Average books sold in first five days:\", sum(hardcover_sales[:5])/5)\n",
        "\n"
      ]
    }
  ]
}