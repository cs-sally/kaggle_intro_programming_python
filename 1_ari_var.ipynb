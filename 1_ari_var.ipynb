{
  "nbformat": 4,
  "nbformat_minor": 0,
  "metadata": {
    "colab": {
      "provenance": [],
      "authorship_tag": "ABX9TyM02r1jdqfDLW/FJnO984s4",
      "include_colab_link": true
    },
    "kernelspec": {
      "name": "python3",
      "display_name": "Python 3"
    },
    "language_info": {
      "name": "python"
    }
  },
  "cells": [
    {
      "cell_type": "markdown",
      "metadata": {
        "id": "view-in-github",
        "colab_type": "text"
      },
      "source": [
        "<a href=\"https://colab.research.google.com/github/cs-sally/kaggle_programming_python/blob/main/1_ari_var.ipynb\" target=\"_parent\"><img src=\"https://colab.research.google.com/assets/colab-badge.svg\" alt=\"Open In Colab\"/></a>"
      ]
    },
    {
      "cell_type": "markdown",
      "source": [
        "1. Printing"
      ],
      "metadata": {
        "id": "Nv-oJsCLfwB0"
      }
    },
    {
      "cell_type": "code",
      "execution_count": null,
      "metadata": {
        "colab": {
          "base_uri": "https://localhost:8080/"
        },
        "id": "Uh-moZpVeYU9",
        "outputId": "5dc15669-76e8-410a-fede-07f1857995ce"
      },
      "outputs": [
        {
          "output_type": "stream",
          "name": "stdout",
          "text": [
            "Hello, world!\n"
          ]
        }
      ],
      "source": [
        "print(\"Hello, world!\")"
      ]
    },
    {
      "cell_type": "markdown",
      "source": [
        "2. Arithmetic\n",
        "\n",
        "\n",
        "*   Addition +\n",
        "*   Subtraction -\n",
        "*   Multiplication *\n",
        "*   Division /\n",
        "*   Exponent **\n",
        "*   and so on"
      ],
      "metadata": {
        "id": "pz5Duenif4m-"
      }
    },
    {
      "cell_type": "code",
      "source": [
        "print(1 + 2)\n",
        "print(9 - 5)\n",
        "print(((1 + 3) * (9 - 2) / 2) ** 2)"
      ],
      "metadata": {
        "colab": {
          "base_uri": "https://localhost:8080/"
        },
        "id": "gx--OU4OgSvV",
        "outputId": "c6c8bca9-1106-4af9-a36a-c46112931414"
      },
      "execution_count": null,
      "outputs": [
        {
          "output_type": "stream",
          "name": "stdout",
          "text": [
            "3\n",
            "4\n",
            "196.0\n"
          ]
        }
      ]
    },
    {
      "cell_type": "markdown",
      "source": [
        "3. Comments\n",
        "*   annotate what code is doing\n",
        "*   use Pound sign # for comments"
      ],
      "metadata": {
        "id": "hJO-uUHjgP4g"
      }
    },
    {
      "cell_type": "markdown",
      "source": [
        "4. Variables\n",
        ": Store the results\n",
        "\n",
        "1) Creating variables\n",
        ": for example, we have test variable, 4+5 is 9. We need store this, then we use 'variable'. How to store the variable? then we need variable name so that we use the result later.\n",
        "\n",
        "2) Variable name\n",
        "*   Short\n",
        "*   descriptive\n",
        "*   no space\n",
        "*   underscore\n",
        "*   start with a letter\n",
        "*   no number started\n",
        "\n",
        "3) Assigning value\n",
        "*   use = sign to store value\n",
        "*   print(): to see the variable"
      ],
      "metadata": {
        "id": "vIwFbzyWhrP8"
      }
    },
    {
      "cell_type": "code",
      "source": [
        "test_var = 4 + 5\n",
        "# print the value of test_var\n",
        "print(test_var)"
      ],
      "metadata": {
        "colab": {
          "base_uri": "https://localhost:8080/"
        },
        "id": "kQvxwcMJiW9J",
        "outputId": "1cba204b-773e-47a5-a1dc-fd7234ff74aa"
      },
      "execution_count": null,
      "outputs": [
        {
          "output_type": "stream",
          "name": "stdout",
          "text": [
            "9\n"
          ]
        }
      ]
    },
    {
      "cell_type": "markdown",
      "source": [
        "4) Manipulating variables\n",
        ": change the variables by overriding"
      ],
      "metadata": {
        "id": "hiwC8-j1iybH"
      }
    },
    {
      "cell_type": "code",
      "source": [
        "my_var = 3\n",
        "print(my_var)\n",
        "my_var = 100\n",
        "print(my_var)\n",
        "print(test_var)\n",
        "my_var = my_var + 3\n",
        "print(my_var)"
      ],
      "metadata": {
        "colab": {
          "base_uri": "https://localhost:8080/"
        },
        "id": "1jQypB9lkImy",
        "outputId": "cbe65c75-4d12-47b6-904c-d3f491567dfb"
      },
      "execution_count": null,
      "outputs": [
        {
          "output_type": "stream",
          "name": "stdout",
          "text": [
            "3\n",
            "100\n",
            "9\n",
            "103\n"
          ]
        }
      ]
    },
    {
      "cell_type": "markdown",
      "source": [
        "5) Using multiple variables\n",
        ": for long calculation, for example, number of seconds in four years:"
      ],
      "metadata": {
        "id": "ySxcm3SSkTyD"
      }
    },
    {
      "cell_type": "code",
      "source": [
        "# create variables\n",
        "num_years = 4\n",
        "days_per_year = 365\n",
        "hours_per_day = 24\n",
        "mins_per_hour = 60\n",
        "secs_per_min = 60\n",
        "\n",
        "# calculate number of seconds in four years\n",
        "total_secs = secs_per_min * mins_per_hour * hours_per_day * days_per_year * num_years\n",
        "print(total_secs)"
      ],
      "metadata": {
        "colab": {
          "base_uri": "https://localhost:8080/"
        },
        "id": "D3TV_8IGlS2G",
        "outputId": "9573a8be-bd99-40a8-dfb8-2430e8af4e19"
      },
      "execution_count": null,
      "outputs": [
        {
          "output_type": "stream",
          "name": "stdout",
          "text": [
            "126144000\n"
          ]
        }
      ]
    },
    {
      "cell_type": "markdown",
      "source": [
        "6) Using variables helps:\n",
        "*   Keeep track better of each part calculation\n",
        "*   Corect any mistakes easily, for example,\n",
        "*   days_per_year = 365.25"
      ],
      "metadata": {
        "id": "3x2cPyI4mOoQ"
      }
    },
    {
      "cell_type": "code",
      "source": [
        "# update to include leap years\n",
        "days_per_year = 365.25\n",
        "\n",
        "# calculate number of seconds in four years\n",
        "total_secs = secs_per_min * mins_per_hour * hours_per_day * days_per_year * num_years\n",
        "print(total_secs)"
      ],
      "metadata": {
        "colab": {
          "base_uri": "https://localhost:8080/"
        },
        "id": "PCbEzzlrnUfv",
        "outputId": "bca90145-a03d-4df0-c230-ea0acf23900a"
      },
      "execution_count": null,
      "outputs": [
        {
          "output_type": "stream",
          "name": "stdout",
          "text": [
            "126230400.0\n"
          ]
        }
      ]
    },
    {
      "cell_type": "markdown",
      "source": [
        "5. Debugging\n",
        "Name error: Most common type of error is typo."
      ],
      "metadata": {
        "id": "VpXsK6junpG4"
      }
    },
    {
      "cell_type": "code",
      "source": [
        "print(hours_per_dy)"
      ],
      "metadata": {
        "colab": {
          "base_uri": "https://localhost:8080/",
          "height": 159
        },
        "id": "6s7SeEC2oBzm",
        "outputId": "29553cfc-9393-453b-e4ef-fac00732b972"
      },
      "execution_count": null,
      "outputs": [
        {
          "output_type": "error",
          "ename": "NameError",
          "evalue": "name 'hours_per_dy' is not defined",
          "traceback": [
            "\u001b[0;31m---------------------------------------------------------------------------\u001b[0m",
            "\u001b[0;31mNameError\u001b[0m                                 Traceback (most recent call last)",
            "\u001b[0;32m/tmp/ipython-input-9-3124177373.py\u001b[0m in \u001b[0;36m<cell line: 0>\u001b[0;34m()\u001b[0m\n\u001b[0;32m----> 1\u001b[0;31m \u001b[0mprint\u001b[0m\u001b[0;34m(\u001b[0m\u001b[0mhours_per_dy\u001b[0m\u001b[0;34m)\u001b[0m\u001b[0;34m\u001b[0m\u001b[0;34m\u001b[0m\u001b[0m\n\u001b[0m\u001b[1;32m      2\u001b[0m \u001b[0mprint\u001b[0m\u001b[0;34m(\u001b[0m\u001b[0mhours_per_day\u001b[0m\u001b[0;34m)\u001b[0m\u001b[0;34m\u001b[0m\u001b[0;34m\u001b[0m\u001b[0m\n",
            "\u001b[0;31mNameError\u001b[0m: name 'hours_per_dy' is not defined"
          ]
        }
      ]
    },
    {
      "cell_type": "code",
      "source": [
        "print(hours_per_day)"
      ],
      "metadata": {
        "colab": {
          "base_uri": "https://localhost:8080/"
        },
        "id": "55ewVFjzoLje",
        "outputId": "7cc1c539-030a-4f62-a1de-431c2057c86d"
      },
      "execution_count": null,
      "outputs": [
        {
          "output_type": "stream",
          "name": "stdout",
          "text": [
            "24\n"
          ]
        }
      ]
    }
  ]
}