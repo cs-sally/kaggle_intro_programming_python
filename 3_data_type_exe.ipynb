{
  "nbformat": 4,
  "nbformat_minor": 0,
  "metadata": {
    "colab": {
      "provenance": [],
      "authorship_tag": "ABX9TyMzRVm2Kw4vPXuRiEJc5Yq4",
      "include_colab_link": true
    },
    "kernelspec": {
      "name": "python3",
      "display_name": "Python 3"
    },
    "language_info": {
      "name": "python"
    }
  },
  "cells": [
    {
      "cell_type": "markdown",
      "metadata": {
        "id": "view-in-github",
        "colab_type": "text"
      },
      "source": [
        "<a href=\"https://colab.research.google.com/github/cs-sally/kaggle_programming_python/blob/main/3_data_type_exe.ipynb\" target=\"_parent\"><img src=\"https://colab.research.google.com/assets/colab-badge.svg\" alt=\"Open In Colab\"/></a>"
      ]
    },
    {
      "cell_type": "markdown",
      "source": [
        "# Q1. int() function\n"
      ],
      "metadata": {
        "id": "55BO2WjLih_i"
      }
    },
    {
      "cell_type": "code",
      "source": [
        "# define a float\n",
        "y = 1.\n",
        "print(y)\n",
        "print(type(y))\n",
        "\n",
        "# int() function: type casting\n",
        "z = int(y)\n",
        "print(z)\n",
        "print(type(z))\n",
        "\n",
        "# uncomment and toget started\n",
        "print(int(1.2321))\n",
        "print(int(1.747))\n",
        "print(int(-3.94535))\n",
        "print(int(-2.19774))\n"
      ],
      "metadata": {
        "colab": {
          "base_uri": "https://localhost:8080/"
        },
        "id": "wK0XIa7Ui4Ve",
        "outputId": "11b52b6e-97cb-472e-c83c-55bdd45936d6"
      },
      "execution_count": 1,
      "outputs": [
        {
          "output_type": "stream",
          "name": "stdout",
          "text": [
            "1.0\n",
            "<class 'float'>\n",
            "1\n",
            "<class 'int'>\n",
            "1\n",
            "1\n",
            "-3\n",
            "-2\n"
          ]
        }
      ]
    },
    {
      "cell_type": "markdown",
      "source": [
        "# Q2. Boolean multiplication\n",
        "*   True = 1, False = 0\n",
        "*   string multiplication by integer\n",
        "*   empty string is still string data"
      ],
      "metadata": {
        "id": "IiF0Gjfqj8di"
      }
    },
    {
      "cell_type": "code",
      "source": [
        "# boolean multiplications\n",
        "print(3 * True)\n",
        "print(-3.1 * True)\n",
        "print(type(\"abc\" * False))\n",
        "print(len(\"abc\" * False))"
      ],
      "metadata": {
        "colab": {
          "base_uri": "https://localhost:8080/"
        },
        "id": "jBmoMgBLk9bD",
        "outputId": "52a2027c-2ed8-416b-d0d4-2d49423b2688"
      },
      "execution_count": 2,
      "outputs": [
        {
          "output_type": "stream",
          "name": "stdout",
          "text": [
            "3\n",
            "-3.1\n",
            "<class 'str'>\n",
            "0\n"
          ]
        }
      ]
    },
    {
      "cell_type": "markdown",
      "source": [
        "# Q3. House values\n",
        "*   get_expected_cost():\n",
        "* beds - no. br, float\n",
        "* baths - no. bth, float\n",
        "* has_basement - boolean\n",
        "\n",
        "*   0br, 0bth, no base = 80000\n",
        "*   add_br 30000\n",
        "*   add_bth 10000\n",
        "*   basement 40000\n",
        "\n",
        "*   get_expected_cost(1, 1, False) 1br + 1bth + nobase = 80000 + 30000 + 10000 = 12000\n",
        "*   get_expected_cost(2, 1, True) = 80000 + 2 * 300000 + 10000 + 40000 = 19000"
      ],
      "metadata": {
        "id": "_xTYVnfNPe_o"
      }
    },
    {
      "cell_type": "code",
      "source": [
        "# TODO: Complete the function\n",
        "def get_expected_cost(beds, baths, has_basement):\n",
        "    base_cost = 80000\n",
        "    value = base_cost + beds * 30000 + baths * 10000 + has_basement * 40000\n",
        "    return value"
      ],
      "metadata": {
        "id": "-PBTv-p6a931"
      },
      "execution_count": 3,
      "outputs": []
    },
    {
      "cell_type": "markdown",
      "source": [
        "# Q4. Boolean arithmetic\n",
        "*   True = 1\n",
        "*   False = 0"
      ],
      "metadata": {
        "id": "tKxfA0bkl171"
      }
    },
    {
      "cell_type": "code",
      "source": [
        "print(False + False) # print(0 + 0), print(0)\n",
        "print(type(False + False))\n",
        "print(True + False)\n",
        "print(type(True + False))\n",
        "print(False + True)\n",
        "print(type(False + True))\n",
        "print(True + True )\n",
        "print(type(True + True))\n",
        "print(False + True + True + True)\n",
        "print(type(False + True + True + True))"
      ],
      "metadata": {
        "colab": {
          "base_uri": "https://localhost:8080/"
        },
        "id": "OmEy-l13l96-",
        "outputId": "cf0276d3-e8d8-4cdb-9ee9-2b1a83b6024d"
      },
      "execution_count": 4,
      "outputs": [
        {
          "output_type": "stream",
          "name": "stdout",
          "text": [
            "0\n",
            "<class 'int'>\n",
            "1\n",
            "<class 'int'>\n",
            "1\n",
            "<class 'int'>\n",
            "2\n",
            "<class 'int'>\n",
            "3\n",
            "<class 'int'>\n"
          ]
        }
      ]
    },
    {
      "cell_type": "markdown",
      "source": [
        "# Q5. Selling rings\n",
        "*   gold plated rings base cost is $50, $7 per engraved unit\n",
        "*   solid gold rings base cost $100, $10 per engrved unit\n",
        "* Space, punctuation one units\n",
        "\n",
        "* cost_of_project() has 2 arguments:\n",
        "* engraving - lenth of string\n",
        "* solid_gold True\n",
        "\n",
        "* def cost_of_project(engraving, solid_gold):\n",
        "* cost = solid_gold * (10 * len(engraving) + 100) + (not solid_gold) * (7 *len(engraving) + 50)"
      ],
      "metadata": {
        "id": "5uKoDozEJc-x"
      }
    },
    {
      "cell_type": "code",
      "source": [
        "# using boolean conversions to integer\n",
        "def cost_of_project(engraving, solid_gold):\n",
        "    cost = solid_gold * (100 + 10 * len(engraving)) + (not solid_gold) * (50 + 7 * len(engraving))\n",
        "    return cost\n",
        "\n",
        "# using conditionals\n",
        "def cost_of_project(engraving, solid_gold):\n",
        "    num_engrained_units = len(engraving)\n",
        "    if solid_gold :\n",
        "       base_cost = 100\n",
        "       cost_per_unit = 10\n",
        "       engraved_cost = cost_per_unit * num_engrained_units\n",
        "       cost = base_cost + 10 * len(engraving)\n",
        "    else :\n",
        "       base_cost = 50\n",
        "       cost_per_unit = 7\n",
        "       engraved_cost = cost_per_unit * num_engrained_units\n",
        "       cost = base_cost + 7 * len(engraving)\n",
        "\n",
        "    total_cost = base_cost + engraved_cost\n",
        "    return cost\n",
        "\n",
        "project_one = cost_of_project(\"Charlie+Denver\", True)\n",
        "print(project_one)\n",
        "\n",
        "project_two = cost_of_project(\"08/10/2000\", False)\n",
        "print(project_two)\n"
      ],
      "metadata": {
        "colab": {
          "base_uri": "https://localhost:8080/"
        },
        "id": "hQnZRh12avQN",
        "outputId": "e0ebee34-bb3b-48cc-b02e-9f5fead8d00b"
      },
      "execution_count": 5,
      "outputs": [
        {
          "output_type": "stream",
          "name": "stdout",
          "text": [
            "240\n",
            "120\n"
          ]
        }
      ]
    }
  ]
}