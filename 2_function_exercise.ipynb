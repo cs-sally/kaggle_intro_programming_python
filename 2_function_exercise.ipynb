{
  "nbformat": 4,
  "nbformat_minor": 0,
  "metadata": {
    "colab": {
      "provenance": [],
      "authorship_tag": "ABX9TyMVxuVj2NJwMv0Z7NwdW2pE",
      "include_colab_link": true
    },
    "kernelspec": {
      "name": "python3",
      "display_name": "Python 3"
    },
    "language_info": {
      "name": "python"
    }
  },
  "cells": [
    {
      "cell_type": "markdown",
      "metadata": {
        "id": "view-in-github",
        "colab_type": "text"
      },
      "source": [
        "<a href=\"https://colab.research.google.com/github/cs-sally/kaggle_programming_python/blob/main/2_function_exercise.ipynb\" target=\"_parent\"><img src=\"https://colab.research.google.com/assets/colab-badge.svg\" alt=\"Open In Colab\"/></a>"
      ]
    },
    {
      "cell_type": "markdown",
      "source": [
        "Q3.\n",
        "*   how much cost of paiting a room\n",
        "*   how many gallon needed,\n",
        "*   how much cost of a gallon\n",
        "*   how many sqft to cover total"
      ],
      "metadata": {
        "id": "qkqqTob1BFzF"
      }
    },
    {
      "cell_type": "code",
      "source": [
        "def get_cost(sqft_walls, sqft_ceiling, sqft_per_gallon, cost_per_gallon):\n",
        "    total_sqft = sqft_walls + sqft_ceiling\n",
        "    gallons_needed = total_sqft / sqft_per_gallon\n",
        "    cost = cost_per_gallon * gallons_needed\n",
        "    return cost"
      ],
      "metadata": {
        "id": "JnVo649NGFSS"
      },
      "execution_count": null,
      "outputs": []
    },
    {
      "cell_type": "markdown",
      "source": [
        "Q4.\n",
        "*   get_cost()\n",
        "*   432 sqaure fee of walls\n",
        "*   144 square feet of ceilling\n",
        "*   1 gallon covers 400 square feet\n",
        "*   1 gallon $15\n",
        "\n",
        "432 + 144 /400 * 15 = total cost\n",
        "total sqft\n",
        "total gallon needed = total sqft / 1 gallor covered\n",
        "total cost: total gallon needed * gallon cost 15\n",
        "how sqft 1 gallon cover ? 400\n",
        "how much 1 gallon cost ? %15\n",
        "total cost ?\n",
        "\n",
        "total cost = total sqft, gallon needed, gallon cost = how many gallon needed for total sqft and multiply 1 gallon cost\n",
        "\n",
        "total cost = total sqft ? / gallon per sqft x 1 gallon cost $15\n",
        "\n",
        "total sqft = ceiling + wall\n",
        "gallon per sqft= 400\n",
        "cost per gallon = $15\n",
        "\n",
        "def get_cost(sqft_ceiling, sqft_walls, sqft_per_gallon, cost_per_gallon):\n",
        "total_sqft = sqft_Ceiling+sqft_walls\n",
        "gallon_needed = total_sqft/gallon_per_sqft\n",
        "sqft_per_gallon=400\n",
        "cost_per_gallon=$15\n",
        "return cost = gallon_needed * cost_per_Gallon = total_Sqft/gallon_per_sqft * cost_per_Gallon\n",
        "\n",
        "\n",
        "def get_cost(sqft_walls, sqft_ceiling, sqft_per_gallon, cost_per_gallon):\n",
        "    total_sqft = sqft_walls + sqft_ceiling\n",
        "    gallons_needed = total_sqft / sqft_per_gallon\n",
        "    cost = cost_per_gallon * gallons_needed\n",
        "    return cost\n"
      ],
      "metadata": {
        "id": "q0P6wXxw_uIb"
      }
    },
    {
      "cell_type": "code",
      "execution_count": null,
      "metadata": {
        "id": "LMoDMOxYAwxP"
      },
      "outputs": [],
      "source": [
        "# TODO: Set the project_cost variable to the cost of the project\n",
        "sqft_walls = 432\n",
        "sqft_ceiling = 144\n",
        "sqft_per_gallon = 400\n",
        "cost_per_sqft = 15\n",
        "project_cost = (432 + 144)/400 * 15\n",
        "\n",
        "# Check your answer\n",
        "q4.check()sqft_walls = 432\n",
        "sqft_cei"
      ]
    },
    {
      "cell_type": "markdown",
      "source": [
        "Q5.\n",
        "1.  but no need fractions of a gallon, need buy more of the fractions. So you need more function, that is get_actual_cost, new function math.ceil(), test_value, math.ceil() returns.\n",
        "2.   get actuall cost is roundup when\n",
        "\n",
        "3. the final gallon needed become fractions.\n",
        "Total final gallon needed is total sqft/gallon per sqft. However, here matter is no fraction, absolutely roundup. This can be total cost.\n",
        "\n",
        "4. So original total cost was cost_per_gallon * gallons_needed.\n",
        "\n",
        "5. But different part is 'gallon_needed'. So the gallon needed part need new function from python math module, which is 'math' and specially roundup formular is 'ceil'. so math.ceil is needed from import math module in python.\n",
        "\n",
        "6. gallon_needed = math.ceil function needed: math.ceil(total sqft/sqft_per_gallon) math.ceil()is function insde math module of the python library. So you can use math.ceil function in the imported python math module. You imported already in the begining. So you don't need define the math.ceil() again.\n",
        "\n",
        "7. for example, test_value = 2.17\n",
        "rounded_value = math.ceil(test_Value)\n",
        "print(rounded_value), 3 is displayed.\n",
        "\n",
        "8. Back to the question, you need actual gallon needed, which rounded up the gallon nedeed. Which is roundedup_value is math.ceil(), for this:\n",
        "\n",
        "def round_up_and_divide_by_three(num):\n",
        "    new_value = math.ceil(num)\n",
        "    final_value = new_value/3\n",
        "    return final_value\n",
        "\n"
      ],
      "metadata": {
        "id": "VEEgyofHq__O"
      }
    }
  ]
}