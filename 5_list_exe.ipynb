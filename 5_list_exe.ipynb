{
  "nbformat": 4,
  "nbformat_minor": 0,
  "metadata": {
    "colab": {
      "provenance": [],
      "authorship_tag": "ABX9TyOeg2QP0Uo49MgCe+UuizE0",
      "include_colab_link": true
    },
    "kernelspec": {
      "name": "python3",
      "display_name": "Python 3"
    },
    "language_info": {
      "name": "python"
    }
  },
  "cells": [
    {
      "cell_type": "markdown",
      "metadata": {
        "id": "view-in-github",
        "colab_type": "text"
      },
      "source": [
        "<a href=\"https://colab.research.google.com/github/cs-sally/kaggle_programming_python/blob/main/5_list_exe.ipynb\" target=\"_parent\"><img src=\"https://colab.research.google.com/assets/colab-badge.svg\" alt=\"Open In Colab\"/></a>"
      ]
    },
    {
      "cell_type": "markdown",
      "source": [
        "### Q1. Restaurant Menu ###\n"
      ],
      "metadata": {
        "id": "zysacjFWibO7"
      }
    },
    {
      "cell_type": "code",
      "execution_count": 12,
      "metadata": {
        "id": "hDigc9BFiP73"
      },
      "outputs": [],
      "source": [
        "# Q1. Removing and Adding Menu\n",
        "menu = ['stewed meat with onions', 'bean soup', 'risotto with trout and shrimp', 'fish soup with cream and onion', 'gyro']\n",
        "menu.remove('bean soup')\n",
        "menu.append('roasted beet salad')"
      ]
    },
    {
      "cell_type": "markdown",
      "source": [
        "### Q2. Restaurant Customers ###\n",
        "Number of customers visit to the restaurant.\n",
        "* list: num_customers everyday\n",
        "* avg_first_seven: average numbers first 7 days\n",
        "* avg_last_seven: avg numbers last 7 days\n",
        "* max_month: most customers in the month\n",
        "* min_month: least customers in the month\n",
        "\n"
      ],
      "metadata": {
        "id": "3s8B7ggYkd91"
      }
    },
    {
      "cell_type": "code",
      "source": [
        "# number of customers each day for the last month\n",
        "num_customers = [137, 147, 135, 128, 170, 174, 165, 146, 126, 159, 141, 148, 132, 147, 168, 153, 170, 161, 148, 152, 141, 151, 131, 149, 164, 163, 143, 143, 166, 171]\n",
        "\n",
        "# solution 1\n",
        "avg_first_seven = (137 + 147 + 135 + 128 + 170 + 174 + 165) / 7\n",
        "avg_last_seven = (149 + 164 + 163 + 143 + 143 + 166 + 171) / 7\n",
        "max_month = 174\n",
        "min_month = 126\n",
        "\n",
        "# solution 2 using indexing and slicing\n",
        "avg_first_seven = sum(num_customers[:7])/7\n",
        "avg_last_seven = sum(num_customers[-7:])/7\n",
        "max_month = max(num_customers)\n",
        "min_month = min(num_customers)"
      ],
      "metadata": {
        "id": "aGp2Kf5PnILH"
      },
      "execution_count": 13,
      "outputs": []
    },
    {
      "cell_type": "markdown",
      "source": [
        "### Q3. Split ###\n",
        "* **.split()**: divide a **STRING** into a **LIST** by specified delimiter.\n",
        "* no delimiter, by any whitespace"
      ],
      "metadata": {
        "id": "7zHfn_qao3vl"
      }
    },
    {
      "cell_type": "code",
      "source": [
        "# flower list and split by comma\n",
        "flowers = \"pink primrose,hard-leaved pocket orchid,canterbury bells,sweet pea,english marigold,tiger lily,moon orchid,bird of paradise,monkshood,globe thistle\"\n",
        "print(flowers.split(\",\"))\n",
        "\n",
        "# name and address\n",
        "alphabet = \"A.B.C.D.E.F.G.H.I.J.K.L.M.N.O.P.Q.R.S.T.U.V.W.X.Y.Z\"\n",
        "address = \"Mr. H. Potter,The cupboard under the Stairs,4 Privet Drive,Little Whinging,Surrey\"\n",
        "letters = alphabet.split(\".\")\n",
        "formatted_address = address.split(\",\")\n"
      ],
      "metadata": {
        "colab": {
          "base_uri": "https://localhost:8080/"
        },
        "id": "rc2duvLYrJHz",
        "outputId": "43ff6612-d053-4fb9-e68e-d98a496917be"
      },
      "execution_count": 14,
      "outputs": [
        {
          "output_type": "stream",
          "name": "stdout",
          "text": [
            "['pink primrose', 'hard-leaved pocket orchid', 'canterbury bells', 'sweet pea', 'english marigold', 'tiger lily', 'moon orchid', 'bird of paradise', 'monkshood', 'globe thistle']\n"
          ]
        }
      ]
    },
    {
      "cell_type": "markdown",
      "source": [
        "### Q4. List comprehensions ###\n"
      ],
      "metadata": {
        "id": "y1uS-wUmt0XY"
      }
    },
    {
      "cell_type": "code",
      "source": [
        "# list and a new list\n",
        "test_ratings = [1, 2, 3, 4, 5]\n",
        "test_liked = [i>=4 for i in test_ratings]\n",
        "print(test_liked)\n",
        "\n",
        "def percentage_liked(ratings):\n",
        "    list_liked = [i>=4 for i in ratings]\n",
        "    percentage_liked = sum(list_liked)/len(list_liked)\n",
        "    return percentage_liked\n",
        "\n",
        "percentage_liked([1, 2, 3, 4, 5, 4, 5, 1])\n"
      ],
      "metadata": {
        "colab": {
          "base_uri": "https://localhost:8080/"
        },
        "id": "-7s9z3cbuIo0",
        "outputId": "d77f870a-a50a-4a14-aaae-fa4a5015236d"
      },
      "execution_count": 15,
      "outputs": [
        {
          "output_type": "stream",
          "name": "stdout",
          "text": [
            "[False, False, False, True, True]\n"
          ]
        },
        {
          "output_type": "execute_result",
          "data": {
            "text/plain": [
              "0.5"
            ]
          },
          "metadata": {},
          "execution_count": 15
        }
      ]
    },
    {
      "cell_type": "markdown",
      "source": [
        "### Q5. Web Analytics ###\n",
        ": Web analytics of the percentage growth in the number of users yearly.\n",
        "\n",
        "* percentage_growth() : def function\n",
        "* num_users : number of users each year\n",
        "* num_users[0] : first year user numbers\n",
        "* num_users[1] : second year user numbers\n",
        "* num_users[]: final year user numbers\n",
        "* yrs_ago = number of years to go back in time\n",
        "\n",
        "ex):\n",
        "* num_users = [920344, 1043553, 1204334, 1458996, 1503323, 1593432, 1623463, 1843064, 1930992, 2001078]\n",
        "* yrs_ago = 1 # (2001078 - 1930992)/1930992 = 0.036 (3.6%)
        "* yrs_ago = 7 # (2001078 - 1204334)/1204334 = 0.66 (6.6%)
      ],
      "metadata": {
        "id": "yfFa1i5Y1wXg"
      }
    },
    {
      "cell_type": "code",
      "source": [
        "def percentage_growth(num_users, yrs_ago):\n",
        "    growth = (num_users[len(num_users)-1] - num_users[len(num_users)-yrs_ago-1])/num_users[len(num_users)-yrs_ago-1]\n",
        "    return growth\n",
        "\n",
        "# Variable for calculating some test examples\n",
        "num_users_test = [920344, 1043553, 1204334, 1458996, 1503323, 1593432, 1623463, 1843064, 1930992, 2001078]\n",
        "\n",
        "# Should return .036\n",
        "print(percentage_growth(num_users_test, 1))\n",
        "\n",
        "# Should return 0.66\n",
        "print(percentage_growth(num_users_test, 7))\n"
      ],
      "metadata": {
        "colab": {
          "base_uri": "https://localhost:8080/"
        },
        "id": "ywrh2sV57q1S",
        "outputId": "2c4c4456-e1d8-4382-e228-e92011e044a3"
      },
      "execution_count": 16,
      "outputs": [
        {
          "output_type": "stream",
          "name": "stdout",
          "text": [
            "0.03629533421163837\n",
            "0.6615639847417742\n"
          ]
        }
      ]
    }
  ]
}
