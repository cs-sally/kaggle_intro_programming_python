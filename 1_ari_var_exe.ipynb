{
  "nbformat": 4,
  "nbformat_minor": 0,
  "metadata": {
    "colab": {
      "provenance": [],
      "authorship_tag": "ABX9TyP5ijEeCBxZ/Y2O/ipgmAH6",
      "include_colab_link": true
    },
    "kernelspec": {
      "name": "python3",
      "display_name": "Python 3"
    },
    "language_info": {
      "name": "python"
    }
  },
  "cells": [
    {
      "cell_type": "markdown",
      "metadata": {
        "id": "view-in-github",
        "colab_type": "text"
      },
      "source": [
        "<a href=\"https://colab.research.google.com/github/cs-sally/kaggle_programming_python/blob/main/1_ari_var_exe.ipynb\" target=\"_parent\"><img src=\"https://colab.research.google.com/assets/colab-badge.svg\" alt=\"Open In Colab\"/></a>"
      ]
    },
    {
      "cell_type": "code",
      "source": [
        "# Q1., Q2.\n",
        "print(\"Hello, world!\")\n",
        "print(\"Your message here\")\n",
        "print(\"I am learning how to code :D\")\n",
        "print(\"3 + 4\")\n",
        "# quatation marks does not take use quotation marks\n",
        "# error: print(\"She said  \"great job\" and gave me a high-five!\")\n",
        "print(\"She said great job and gave me a high-five\")"
      ],
      "metadata": {
        "colab": {
          "base_uri": "https://localhost:8080/"
        },
        "id": "vSEamxF9rAGJ",
        "outputId": "3f5bd948-0a1c-451d-dce3-e3cb051c0c66"
      },
      "execution_count": null,
      "outputs": [
        {
          "output_type": "stream",
          "name": "stdout",
          "text": [
            "Hello, world!\n",
            "Your message here\n",
            "I am learning how to code :D\n",
            "3 + 4\n",
            "She said great job and gave me a high-five\n"
          ]
        }
      ]
    },
    {
      "cell_type": "markdown",
      "source": [
        "Q3. Uncommenting\n",
        "Q4. Create variables and Calculation\n",
        "\n",
        "\n",
        "*   Define a var.: births_per_min = 250\n",
        "*   Define a var.: births_per_day = birth_per_min * 60 * 24"
      ],
      "metadata": {
        "id": "iVH3_yXObY5x"
      }
    },
    {
      "cell_type": "code",
      "source": [
        "births_per_min = 250\n",
        "births_per_day = 250 * 60 * 24"
      ],
      "metadata": {
        "id": "2rzZsqVlcy5C"
      },
      "execution_count": null,
      "outputs": []
    },
    {
      "cell_type": "markdown",
      "source": [
        "Q5. Titanic competition\n",
        "Survived\n",
        "*   How many passangers were survived ? : survived\n",
        "*   How many minors were survived ? minors\n",
        "\n",
        "Fractions\n",
        "*   Fraction of total survived: survived_fraction = survived / total\n",
        "*   Fraction of minor survived: minors_fraction = minors / total"
      ],
      "metadata": {
        "id": "sEg9i_79dml4"
      }
    },
    {
      "cell_type": "code",
      "source": [
        "# Number of total passengers\n",
        "total = 891\n",
        "print(total)\n",
        "\n",
        "# Number of passengers who survived\n",
        "survived = 342\n",
        "print(survived)\n",
        "\n",
        "# Number of passengers under 18\n",
        "minors = 113\n",
        "print(minors)\n",
        "\n",
        "# TODO: Fill in the value of the survived_fraction variable\n",
        "survived_fraction = survived / total\n",
        "\n",
        "# Print the value of the variable\n",
        "print(survived_fraction)\n",
        "\n",
        "# TODO: Fill in the value of the minors_fraction variable\n",
        "minors_fraction = minors / total\n",
        "\n",
        "# Print the value of the variable\n",
        "print(minors_fraction)"
      ],
      "metadata": {
        "colab": {
          "base_uri": "https://localhost:8080/"
        },
        "id": "G513NtjohL_2",
        "outputId": "f2436fae-5e18-4444-d92b-dfaaf5d7d0b4"
      },
      "execution_count": null,
      "outputs": [
        {
          "output_type": "stream",
          "name": "stdout",
          "text": [
            "891\n",
            "342\n",
            "113\n",
            "0.3838383838383838\n",
            "0.12682379349046016\n"
          ]
        }
      ]
    }
  ]
}