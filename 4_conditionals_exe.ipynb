{
  "nbformat": 4,
  "nbformat_minor": 0,
  "metadata": {
    "colab": {
      "provenance": [],
      "authorship_tag": "ABX9TyMlYRV50HpySQf0v5APAP0j",
      "include_colab_link": true
    },
    "kernelspec": {
      "name": "python3",
      "display_name": "Python 3"
    },
    "language_info": {
      "name": "python"
    }
  },
  "cells": [
    {
      "cell_type": "markdown",
      "metadata": {
        "id": "view-in-github",
        "colab_type": "text"
      },
      "source": [
        "<a href=\"https://colab.research.google.com/github/cs-sally/kaggle_programming_python/blob/main/4_conditionals_exe.ipynb\" target=\"_parent\"><img src=\"https://colab.research.google.com/assets/colab-badge.svg\" alt=\"Open In Colab\"/></a>"
      ]
    },
    {
      "cell_type": "code",
      "metadata": {
        "colab": {
          "base_uri": "https://localhost:8080/"
        },
        "id": "9a11a7b6",
        "outputId": "867a610a-0fc1-44c9-e293-77f959735927"
      },
      "source": [
        "!pip install --upgrade --no-cache-dir learntools"
      ],
      "execution_count": null,
      "outputs": [
        {
          "output_type": "stream",
          "name": "stdout",
          "text": [
            "Collecting learntools\n",
            "  Downloading learntools-0.0.20-py3-none-any.whl.metadata (316 bytes)\n",
            "Requirement already satisfied: numpy in /usr/local/lib/python3.11/dist-packages (from learntools) (2.0.2)\n",
            "Downloading learntools-0.0.20-py3-none-any.whl (7.5 kB)\n",
            "Installing collected packages: learntools\n",
            "Successfully installed learntools-0.0.20\n"
          ]
        }
      ]
    },
    {
      "cell_type": "markdown",
      "source": [],
      "metadata": {
        "id": "adwgmiFKlH3g"
      }
    },
    {
      "cell_type": "code",
      "source": [
        "from learntools.core import binder\n",
        "binder.bind(globals())\n",
        "from learntools.intro_to_programming.ex4 import *\n",
        "print('Setup complete.')"
      ],
      "metadata": {
        "colab": {
          "base_uri": "https://localhost:8080/",
          "height": 367
        },
        "id": "lx5GfNm2jJ1n",
        "outputId": "88d5ccd3-04b3-462c-aba6-7009f2da3f1e"
      },
      "execution_count": null,
      "outputs": [
        {
          "output_type": "error",
          "ename": "ModuleNotFoundError",
          "evalue": "No module named 'learntools.core'",
          "traceback": [
            "\u001b[0;31m---------------------------------------------------------------------------\u001b[0m",
            "\u001b[0;31mModuleNotFoundError\u001b[0m                       Traceback (most recent call last)",
            "\u001b[0;32m/tmp/ipython-input-2-4044556732.py\u001b[0m in \u001b[0;36m<cell line: 0>\u001b[0;34m()\u001b[0m\n\u001b[0;32m----> 1\u001b[0;31m \u001b[0;32mfrom\u001b[0m \u001b[0mlearntools\u001b[0m\u001b[0;34m.\u001b[0m\u001b[0mcore\u001b[0m \u001b[0;32mimport\u001b[0m \u001b[0mbinder\u001b[0m\u001b[0;34m\u001b[0m\u001b[0;34m\u001b[0m\u001b[0m\n\u001b[0m\u001b[1;32m      2\u001b[0m \u001b[0mbinder\u001b[0m\u001b[0;34m.\u001b[0m\u001b[0mbind\u001b[0m\u001b[0;34m(\u001b[0m\u001b[0mglobals\u001b[0m\u001b[0;34m(\u001b[0m\u001b[0;34m)\u001b[0m\u001b[0;34m)\u001b[0m\u001b[0;34m\u001b[0m\u001b[0;34m\u001b[0m\u001b[0m\n\u001b[1;32m      3\u001b[0m \u001b[0;32mfrom\u001b[0m \u001b[0mlearntools\u001b[0m\u001b[0;34m.\u001b[0m\u001b[0mintro_to_programming\u001b[0m\u001b[0;34m.\u001b[0m\u001b[0mex4\u001b[0m \u001b[0;32mimport\u001b[0m \u001b[0;34m*\u001b[0m\u001b[0;34m\u001b[0m\u001b[0;34m\u001b[0m\u001b[0m\n\u001b[1;32m      4\u001b[0m \u001b[0mprint\u001b[0m\u001b[0;34m(\u001b[0m\u001b[0;34m'Setup complete.'\u001b[0m\u001b[0;34m)\u001b[0m\u001b[0;34m\u001b[0m\u001b[0;34m\u001b[0m\u001b[0m\n",
            "\u001b[0;31mModuleNotFoundError\u001b[0m: No module named 'learntools.core'",
            "",
            "\u001b[0;31m---------------------------------------------------------------------------\u001b[0;32m\nNOTE: If your import is failing due to a missing package, you can\nmanually install dependencies using either !pip or !apt.\n\nTo view examples of installing some common dependencies, click the\n\"Open Examples\" button below.\n\u001b[0;31m---------------------------------------------------------------------------\u001b[0m\n"
          ],
          "errorDetails": {
            "actions": [
              {
                "action": "open_url",
                "actionText": "Open Examples",
                "url": "/notebooks/snippets/importing_libraries.ipynb"
              }
            ]
          }
        }
      ]
    },
    {
      "cell_type": "markdown",
      "source": [
        "# Q1.\n",
        "\"A\" = 90-100\n",
        "\"B\" = 80-89\n",
        "\"C\" = 70-79\n",
        "\"D\" = 60-69\n",
        "\"F\" < 60\n",
        "\n",
        "Wrong scenario: multiple if\n",
        "def get_grade(score):\n",
        "    if score = 90-100\n",
        "     grade = \"A\"\n",
        "     return grade\n",
        "    if score = 80-89\n",
        "     grade = \"B\"\n",
        "     return grade\n",
        "    if score = 70-79\n",
        "     grade = \"C\"\n",
        "     return grade\n",
        "    if score = 60-69\n",
        "     grade =\"D\"\n",
        "     return grade\n",
        "    if score < 60\n",
        "     grade = \"F\"\n",
        "     return grade\n",
        "\n",
        "*   python: 90-100 become substraction\n",
        "*   miltiple if: possible but no efficient\n",
        "*   elif--else: efficiency, readiblity, absolute mutual exclusivity\n",
        "*  if..elif...else: else is optional, not necessary\n",
        "\n",
        "## * Formatting String\n",
        "*   formatting as string\n",
        "*   {} : placeholder for the printing result part"
      ],
      "metadata": {
        "id": "wMiZuuTS97Ip"
      }
    },
    {
      "cell_type": "code",
      "execution_count": null,
      "metadata": {
        "colab": {
          "base_uri": "https://localhost:8080/"
        },
        "id": "W4yogmKG9t8T",
        "outputId": "a2de9ed6-dce2-4335-c35b-2080bac18fa7"
      },
      "outputs": [
        {
          "output_type": "stream",
          "name": "stdout",
          "text": [
            "Score 95: A\n"
          ]
        }
      ],
      "source": [
        "def get_grade(score):\n",
        "    if score >= 90:\n",
        "      grade = \"A\"\n",
        "    elif score >= 80:\n",
        "      grade = \"B\"\n",
        "    elif score >= 70:\n",
        "      grade = \"c\"\n",
        "    elif score >= 60:\n",
        "      grade = \"D\"\n",
        "    else:\n",
        "      grade = \"F\"\n",
        "    return grade\n",
        "\n",
        "print(f\"Score 95: {get_grade(95)}\")"
      ]
    },
    {
      "cell_type": "markdown",
      "source": [
        "# Q2.\n",
        "* def cost_of_project(envraving, solid_gold):\n",
        "* if solid_gold = True:\n",
        "* cost = 100 + 10 * len(engraving)\n",
        "* else:\n",
        "* cost = 100 + 10 * len(engraving) + 50 + 7 * (len(engvraving))"
      ],
      "metadata": {
        "id": "LqHVLJt6P8ZY"
      }
    },
    {
      "cell_type": "code",
      "source": [
        "def cost_of_project(engraving, solid_gold):\n",
        "    if solid_gold == True:\n",
        "        cost = 100 + 10 * len(engraving)\n",
        "    else:\n",
        "        cost = 50 + 7 * len(engraving)\n",
        "    return cost"
      ],
      "metadata": {
        "id": "IUumYJH5SoY8"
      },
      "execution_count": null,
      "outputs": []
    },
    {
      "cell_type": "markdown",
      "source": [
        "## Q3.\n",
        "* def get_water_bill()\n",
        "* num_gallons = monthly used per customer\n",
        "* no round, only integer\n",
        "* price_per_1000gallons\n",
        "* bill = num_gallons * tprice * num_gallons / 1000\n",
        "* no need parameter separated, explicit declaration\n",
        "* rather () become automatic declaration and paratemer itself in python.\n",
        "\n",
        "### Pythonic Code\n",
        "* Redability\n",
        "* Explicit than implicit, but NO Redundnt\n",
        "* Don't repeat yourself (DRY)\n",
        "\n",
        "### Statically typed language vs Dynamically typed language:\n",
        "* S typed: C++, Java, C#, Go\n",
        "* D typed: Python, Ruby, Javascript, PHP"
      ],
      "metadata": {
        "id": "H1CMR_UuSzIp"
      }
    },
    {
      "cell_type": "code",
      "source": [
        "def get_water_bill(num_gallons):\n",
        "  if num_gallons <= 8000:\n",
        "    bill = 5 * num_gallons / 1000\n",
        "  elif num_gallons <= 22000:\n",
        "    bill = 6 * num_gallons / 1000\n",
        "  elif num_gallons <= 30000:\n",
        "    bill = 7 * num_gallons / 1000\n",
        "  else:\n",
        "    bill = 10 * num_gallons /1000\n",
        "  return bill\n"
      ],
      "metadata": {
        "id": "Hnf2nqHFBahV"
      },
      "execution_count": null,
      "outputs": []
    },
    {
      "cell_type": "markdown",
      "source": [
        "## Q.4\n",
        "\n",
        "* get_phone_bill(gb)\n",
        "* maxim >=15gb\n",
        "* 0.1 / mb or 100 /gb (1000mb = 1gb)\n",
        "* ax + b = y : 100 / 15 + 100 /gb\n",
        "* 15gb_price + per_gb_price_(gb - 15gb) = 100 + 100(gb-15)"
      ],
      "metadata": {
        "id": "fp6gtHcoFROc"
      }
    },
    {
      "cell_type": "code",
      "source": [
        "def get_phone_bill(gb):\n",
        "    if gb <= 15:\n",
        "      bill = 100\n",
        "    if gb >= 15:\n",
        "      bill = 100 + 100 * (gb - 15)\n",
        "    return bill"
      ],
      "metadata": {
        "id": "4vN71boEMH3m"
      },
      "execution_count": null,
      "outputs": []
    },
    {
      "cell_type": "markdown",
      "source": [
        "## Q5. Warning Food and Beverage\n",
        "* def get_lable()\n",
        "* serving_size: if solid: gram, if ligud: mililiters\n",
        "* food_type = \"solid or \"liquid\"\n",
        "* calories_per_serving\n",
        "* saturated_fat_g\n",
        "* trans_fat_g\n",
        "* sugar_g\n",
        "* sodium-mg\n",
        "* sugars_g\n",
        "* excess_sugar()\n",
        "* excess_saturated_fat()"
      ],
      "metadata": {
        "id": "Zfp37PQOMkrk"
      }
    },
    {
      "cell_type": "code",
      "source": [
        "# my_helper_function - instead of libaries\n",
        "def excess_sugar(sugars_g, calories_per_serving):\n",
        "    # (You'd need the actual rule/thresholds from Kaggle Learn)\n",
        "    if sugars_g > 10 and calories_per_serving > 100:\n",
        "        return True\n",
        "    else:\n",
        "        return False\n",
        "def excess_saturated_fat(saturated_fat_g, calories_per_serving):\n",
        "    # Another invented rule: > 5g saturated fat AND > 50 calories\n",
        "    if saturated_fat_g > 5 and calories_per_serving > 50:\n",
        "        return True\n",
        "    else:\n",
        "        return False\n",
        "def excess_trans_fat(trans_fat_g, calories_per_serving):\n",
        "    if trans_fat_g > 1 and calories_per_serving > 100:\n",
        "        return True\n",
        "    else:\n",
        "        return False\n",
        "def excess_sodium(calories_per_serving, sodium_mg):\n",
        "    if sodium_mg > 2400 and calories_per_serving > 2000:\n",
        "        return True\n",
        "    else:\n",
        "        return False\n",
        "def excess_calories(food_type, calories_per_serving, serving_size):\n",
        "    if food_type == \"solid\":\n",
        "        if calories_per_serving > 1000:\n",
        "            return True\n",
        "        else:\n",
        "            return False\n",
        "    if food_type == \"liquid\":\n",
        "        if calories_per_serving > 2000:\n",
        "            return True\n",
        "        else:\n",
        "            return False"
      ],
      "metadata": {
        "id": "lbcxrK8eoe7-"
      },
      "execution_count": null,
      "outputs": []
    },
    {
      "cell_type": "code",
      "source": [
        "def get_labels(food_type, serving_size, calories_per_serving, saturated_fat_g, trans_fat_g, sodium_mg, sugars_g):\n",
        "    # Print messages based on findings\n",
        "    if excess_sugar(sugars_g, calories_per_serving) == True:\n",
        "        print(\"EXCESO AZÚCARES / EXCESS SUGAR\")\n",
        "    if excess_saturated_fat(saturated_fat_g, calories_per_serving) == True:\n",
        "        print(\"EXCESO GRASAS SATURADAS / EXCESS SATURATED FAT\")\n",
        "    if excess_trans_fat(trans_fat_g, calories_per_serving) == True:\n",
        "        print(\"EXCESO GRASAS TRANS / EXCESS TRANS FAT\")\n",
        "    if excess_sodium(calories_per_serving, sodium_mg) == True:\n",
        "        print(\"EXCESO SODIO / EXCESS SODIUM\")\n",
        "    if excess_calories(food_type, calories_per_serving, serving_size) == True:\n",
        "        print(\"EXCESO CALORÍAS / EXCESS CALORIE\")"
      ],
      "metadata": {
        "id": "clA3ix3ksnV6"
      },
      "execution_count": null,
      "outputs": []
    },
    {
      "cell_type": "markdown",
      "source": [
        "# define my helper functions in Colab\n",
        "def my_excess_sugar(sugars_g, calories_per_serving):\n",
        "    # (You'd need the actual rule/thresholds from Kaggle Learn)\n",
        "    # For demonstration, let's invent a rule: > 10g sugar AND > 100 calories\n",
        "    if sugars_g > 10 and calories_per_serving > 100:\n",
        "        return True\n",
        "    else:\n",
        "        return False\n",
        "\n",
        "def my_excess_saturated_fat(saturated_fat_g, calories_per_serving):\n",
        "    # Another invented rule: > 5g saturated fat AND > 50 calories\n",
        "    if saturated_fat_g > 5 and calories_per_serving > 50:\n",
        "        return True\n",
        "    else:\n",
        "        return False\n",
        "\n",
        "# ... and so on for other checks (trans fat, sodium, calories)\n",
        "\n",
        "def get_labels_colab(food_type, serving_size, calories_per_serving, saturated_fat_g, trans_fat_g, sodium_mg, sugars_g):\n",
        "    if my_excess_sugar(sugars_g, calories_per_serving):\n",
        "        print(\"EXCESO AZÚCARES / EXCESS SUGAR\")\n",
        "    if my_excess_saturated_fat(saturated_fat_g, calories_per_serving):\n",
        "        print(\"EXCESO GRASAS SATURADAS / EXCESS SATURATED FAT\")\n",
        "    # Add other checks here with your custom functions\n",
        "    # if my_excess_trans_fat(...)\n",
        "    # if my_excess_sodium(...)\n",
        "    # if my_excess_calories(...) # This one depends on food_type and serving_size, so rules would be different.\n",
        "\n",
        "# Now, you can use your custom function in Colab\n",
        "get_labels_colab(\"solid\", 32, 110, 2.5, 0, 400, 1)"
      ],
      "metadata": {
        "id": "gDiF4QwUQNjZ"
      }
    },
    {
      "cell_type": "markdown",
      "source": [
        "### Bologna: get_lables() to get the warning lables\n",
        "* food_type = \"solid\"\n",
        "* serving_size = 32\n",
        "* calories_per_serving = 110\n",
        "* saturated_fat_g = 2.5\n",
        "* trans_fat_g = 0\n",
        "* sodium_mg = 400\n",
        "* sugars_g = 1\n",
        "\n"
      ],
      "metadata": {
        "id": "-V-YDR1diCAz"
      }
    },
    {
      "cell_type": "code",
      "source": [
        "# bologna\n",
        "get_labels(\"solid\", 32, 110, 2.5, 0, 400, 1)"
      ],
      "metadata": {
        "id": "SgUJGsEejITP"
      },
      "execution_count": null,
      "outputs": []
    },
    {
      "cell_type": "markdown",
      "source": [
        "### cerial: get_lables() to get the warning lables\n",
        "* def get_labels(food_type, serving_size, calories_per_serving, saturated_fat_g, trans_fat_g, sodium_mg, sugars_g):\n",
        "* food_type = \"solid\"\n",
        "* serving_size = 40\n",
        "* calories_per_serving = 150\n",
        "* saturated_fat_g = 0\n",
        "* trans_fat_g = 0\n",
        "* sodium_mg = 150mg\n",
        "* sugars_g = 16"
      ],
      "metadata": {
        "id": "aibiHzq9nGv9"
      }
    },
    {
      "cell_type": "code",
      "source": [
        "# zucaritas cerial\n",
        "get_labels(\"solid\", 40, 150, 0, 0, 150, 16)"
      ],
      "metadata": {
        "colab": {
          "base_uri": "https://localhost:8080/"
        },
        "id": "4x52pLCJmRnK",
        "outputId": "e727b10d-5c88-4094-cbbf-5f68a8e376e2"
      },
      "execution_count": null,
      "outputs": [
        {
          "output_type": "stream",
          "name": "stdout",
          "text": [
            "EXCESO AZÚCARES / EXCESS SUGAR\n"
          ]
        }
      ]
    },
    {
      "cell_type": "code",
      "source": [
        "# mozzarella sticks https://world-es.openfoodfacts.org/producto/0062325540104/mozzarella-cheese-sticks\n",
        "get_labels(\"solid\", 21, 68, 3, 0.2, 9, 0)"
      ],
      "metadata": {
        "id": "5OF9aTQnmt0s"
      },
      "execution_count": null,
      "outputs": []
    },
    {
      "cell_type": "code",
      "source": [
        "# pillsbury cookies https://world.openfoodfacts.org/product/0069700118545/biscuits-au-sucre-pretraches\n",
        "get_labels(\"solid\", 30, 120, 1.5, 0.5, 110, 9 )"
      ],
      "metadata": {
        "id": "cIGwI_lTmzMd"
      },
      "execution_count": null,
      "outputs": []
    },
    {
      "cell_type": "code",
      "source": [
        "# sunkist orange soda https://world-es.openfoodfacts.org/producto/0078000113464/orange-soda-sunkist\n",
        "get_labels(\"liquid\", 12, 160, 0, 0, 65, 44)"
      ],
      "metadata": {
        "colab": {
          "base_uri": "https://localhost:8080/"
        },
        "id": "7pZLlClnm7h-",
        "outputId": "366a9fdd-5081-46b6-81ec-6f27e7db6c68"
      },
      "execution_count": null,
      "outputs": [
        {
          "output_type": "stream",
          "name": "stdout",
          "text": [
            "EXCESO AZÚCARES / EXCESS SUGAR\n"
          ]
        }
      ]
    }
  ]
}